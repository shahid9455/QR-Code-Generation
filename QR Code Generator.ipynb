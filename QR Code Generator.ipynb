{
 "cells": [
  {
   "cell_type": "markdown",
   "id": "946cc2bd-5850-4194-a20d-fe67491e1b61",
   "metadata": {},
   "source": [
    "**QR Code Generator**"
   ]
  },
  {
   "cell_type": "code",
   "execution_count": 1,
   "id": "4e62fe7e-2037-411a-9804-39fea36924b0",
   "metadata": {},
   "outputs": [],
   "source": [
    "import qrcode\n",
    "from PIL import Image"
   ]
  },
  {
   "cell_type": "code",
   "execution_count": 2,
   "id": "fe66da50-3349-40ac-a2d8-73ee3e07a630",
   "metadata": {},
   "outputs": [],
   "source": [
    "qr_data = \"Hi, My name is Muhammad Shahid, I am an Artificial Intelligence Graduate.\\\n",
    "I made a QR Code generator. Follow me on LinkedIn and GitHub for more amazing projects/codes.\\\n",
    "Here are my LinkedIn and GitHub Links.\\\n",
    "      https://github.com/shahid9455,\\\n",
    "      https://www.linkedin.com/in/muhammad-shahid-3804a927a/\""
   ]
  },
  {
   "cell_type": "code",
   "execution_count": 3,
   "id": "48a55376-0bc5-4115-8972-875f80cd7f03",
   "metadata": {},
   "outputs": [],
   "source": [
    "qr = qrcode.QRCode(box_size = \"2\", border = \"5\")\n",
    "qr.add_data(qr_data)"
   ]
  },
  {
   "cell_type": "code",
   "execution_count": 4,
   "id": "99f1da74-ed14-4462-82f6-4c8360960e09",
   "metadata": {},
   "outputs": [],
   "source": [
    "image = qr.make_image()"
   ]
  },
  {
   "cell_type": "code",
   "execution_count": 5,
   "id": "7203e0ca-33cb-4a46-a173-4315ab021ab2",
   "metadata": {},
   "outputs": [
    {
     "data": {
      "image/png": "[encoded data removed]",
      "text/plain": [
       "<PIL.PngImagePlugin.PngImageFile image mode=1 size=158x158>"
      ]
     },
     "execution_count": 5,
     "metadata": {},
     "output_type": "execute_result"
    }
   ],
   "source": [
    "image.save(\"qr_image.png\")\n",
    "Image.open(\"qr_image.png\")"
   ]
  },
  {
   "cell_type": "code",
   "execution_count": null,
   "id": "c12a432f-e93f-4f8c-95c8-37cbba33f0cd",
   "metadata": {},
   "outputs": [],
   "source": []
  }
 ],
 "metadata": {
  "kernelspec": {
   "display_name": "Python 3 (ipykernel)",
   "language": "python",
   "name": "python3"
  },
  "language_info": {
   "codemirror_mode": {
    "name": "ipython",
    "version": 3
   },
   "file_extension": ".py",
   "mimetype": "text/x-python",
   "name": "python",
   "nbconvert_exporter": "python",
   "pygments_lexer": "ipython3",
   "version": "3.11.5"
  }
 },
 "nbformat": 4,
 "nbformat_minor": 5
}
